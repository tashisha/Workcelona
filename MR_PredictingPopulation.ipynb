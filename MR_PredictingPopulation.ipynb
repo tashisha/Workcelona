{
  "nbformat": 4,
  "nbformat_minor": 0,
  "metadata": {
    "colab": {
      "name": "MR_PredictingPopulation",
      "version": "0.3.2",
      "provenance": [],
      "collapsed_sections": []
    },
    "kernelspec": {
      "display_name": "Python 3",
      "language": "python",
      "name": "python3"
    }
  },
  "cells": [
    {
      "cell_type": "markdown",
      "metadata": {
        "id": "EU6s53NvYdQU",
        "colab_type": "text"
      },
      "source": [
        "# CSIM 2019 - Cognitive Systems: Theory and Models\n",
        "### Mila Sevilla Zhou, Paul Hine, Natasha Tylosky \n",
        "### ---------------\n",
        "\n",
        "# Workcelona\n",
        "## Predicting population movement from unemployment rates\n",
        "\n"
      ]
    },
    {
      "cell_type": "markdown",
      "metadata": {
        "id": "lQXacK5yYdQV",
        "colab_type": "text"
      },
      "source": [
        "In this notebook we will try to demonstrate that population movement is correllated to unemployment rates"
      ]
    },
    {
      "cell_type": "markdown",
      "metadata": {
        "id": "e3JXEeWpRjSz",
        "colab_type": "text"
      },
      "source": [
        "For this project we are comparing unemployment to emigration and immigration in Barcelona.\n",
        "Our hypothesis is that as unemployment rises emigration rises and as unemployment drop \n",
        "immigrantion rises. \n",
        "\n",
        "This means that we need to seperate out emigration and immigration into 2 seperate data sets."
      ]
    },
    {
      "cell_type": "code",
      "metadata": {
        "id": "U_e9FZ6TYdQW",
        "colab_type": "code",
        "outputId": "5ea31102-cedc-484d-bc66-ccf45e729355",
        "colab": {
          "base_uri": "https://localhost:8080/",
          "height": 51
        }
      },
      "source": [
        "%matplotlib inline\n",
        "import matplotlib.pyplot as plt\n",
        "from sklearn.preprocessing import LabelEncoder\n",
        "import numpy as np\n",
        "from scipy.stats import mannwhitneyu\n",
        "from scipy.ndimage.interpolation import shift\n",
        "import csv\n",
        "import pandas as pd\n",
        "!pip install scipy\n",
        "import scipy\n",
        "from scipy.stats import pearsonr \n",
        "from sklearn import linear_model"
      ],
      "execution_count": 0,
      "outputs": [
        {
          "output_type": "stream",
          "text": [
            "Requirement already satisfied: scipy in /usr/local/lib/python3.6/dist-packages (1.1.0)\n",
            "Requirement already satisfied: numpy>=1.8.2 in /usr/local/lib/python3.6/dist-packages (from scipy) (1.14.6)\n"
          ],
          "name": "stdout"
        }
      ]
    },
    {
      "cell_type": "code",
      "metadata": {
        "id": "nH4qgVC8Yh0n",
        "colab_type": "code",
        "outputId": "ad5ef86b-01ec-4431-87a4-d5de12b3e320",
        "colab": {
          "base_uri": "https://localhost:8080/",
          "height": 34
        }
      },
      "source": [
        "from google.colab import drive\n",
        "drive.mount('/content/gdrive', force_remount=True)"
      ],
      "execution_count": 0,
      "outputs": [
        {
          "output_type": "stream",
          "text": [
            "Mounted at /content/gdrive\n"
          ],
          "name": "stdout"
        }
      ]
    },
    {
      "cell_type": "code",
      "metadata": {
        "id": "2UcJC3umYhQZ",
        "colab_type": "code",
        "colab": {}
      },
      "source": [
        "data_path = '/content/gdrive/My Drive/CogSys_Final_Project/data/'"
      ],
      "execution_count": 0,
      "outputs": []
    },
    {
      "cell_type": "code",
      "metadata": {
        "id": "7qnSj3scYdQZ",
        "colab_type": "code",
        "colab": {}
      },
      "source": [
        "df_population = pd.read_csv(data_path+'bcn_population.csv', index_col=0)\n",
        "df_unemployment = pd.read_csv(data_path+'bcn_unemployment.csv', index_col=0)\n",
        "df_cpi = pd.read_csv(data_path+'bcn_cpi.csv', index_col=0)\n",
        "df_gdp = pd.read_csv(data_path+'Spain_GPD_in_USD.csv', index_col=0)"
      ],
      "execution_count": 0,
      "outputs": []
    },
    {
      "cell_type": "markdown",
      "metadata": {
        "id": "N_fS3gbUtN3u",
        "colab_type": "text"
      },
      "source": [
        "## Pearson Correlations"
      ]
    },
    {
      "cell_type": "code",
      "metadata": {
        "id": "5S3hZcX8eUAq",
        "colab_type": "code",
        "outputId": "504f2f48-2e2a-480d-d1e0-f0c3aa1a03ba",
        "colab": {
          "base_uri": "https://localhost:8080/",
          "height": 68
        }
      },
      "source": [
        "# Pearson R Correlation\n",
        "\n",
        "Y = df_population\n",
        "\n",
        "## Unemployment\n",
        "X_unemployment = df_unemployment\n",
        "pearson_unemployment = pearsonr(X_unemployment['Unemployment'], Y['Population']) \n",
        "print(\"Pearson Unemployment\", pearson_unemployment)  # Outputs coefficent and p-value\n",
        "\n",
        "## CPI\n",
        "X_cpi = df_cpi\n",
        "pearson_cpi = pearsonr(X_cpi['CPI'], Y['Population']) \n",
        "print(\"Pearson CPI\", pearson_cpi) \n",
        "\n",
        "## GDP\n",
        "X_gdp = df_gdp\n",
        "pearson_gdp = pearsonr(X_gdp['GDP'], Y['Population']) \n",
        "print(\"Pearson GDP\", pearson_gdp) "
      ],
      "execution_count": 0,
      "outputs": [
        {
          "output_type": "stream",
          "text": [
            "Pearson Unemployment (0.5846674898789607, 0.013701381417034069)\n",
            "Pearson CPI (0.9525891750501257, 3.748400269450358e-09)\n",
            "Pearson GDP (-0.16214742079460026, 0.5340969284772012)\n"
          ],
          "name": "stdout"
        }
      ]
    },
    {
      "cell_type": "markdown",
      "metadata": {
        "id": "pd305kUkiTQ2",
        "colab_type": "text"
      },
      "source": [
        "## **Merge Datasets from 2001-2019**\n",
        "First we need to merge the unemployment dataset."
      ]
    },
    {
      "cell_type": "code",
      "metadata": {
        "id": "69T5O8G8f-v7",
        "colab_type": "code",
        "outputId": "26ee1302-f6d4-403d-a198-8ad865b645d4",
        "colab": {
          "base_uri": "https://localhost:8080/",
          "height": 340
        }
      },
      "source": [
        "#merge the datasets here using Concatenate pandas, pd.concat\n",
        "df = pd.concat([df_population, df_cpi, df_unemployment, df_gdp], axis=1, join='outer')\n",
        "print(df)"
      ],
      "execution_count": 0,
      "outputs": [
        {
          "output_type": "stream",
          "text": [
            "      Population    CPI  Unemployment          GDP\n",
            "Year                                              \n",
            "2002     4840919   72.3          10.8  17019.53541\n",
            "2003     4956663   74.9          10.9  21495.70741\n",
            "2004     5041008   77.6          10.4  24918.64584\n",
            "2005     5127227   80.7           6.9  24918.64584\n",
            "2006     5212783   83.7           6.5  28482.60948\n",
            "2007     5294659   86.2           6.5  32709.40104\n",
            "2008     5376590   89.7           8.6  35579.30993\n",
            "2009     5452609   90.1          16.2  32334.00548\n",
            "2010     5481511   92.0          17.7  30736.62785\n",
            "2011     5508232   94.9          19.1  31835.28880\n",
            "2012     5519370   97.7          22.5  28563.85904\n",
            "2013     5492356   99.6          23.1  29211.77375\n",
            "2014     5462583   99.8          20.0  29623.16445\n",
            "2015     5463907   99.8          18.2  25789.51955\n",
            "2016     5489294  100.0          15.5  26616.75780\n",
            "2017     5533459  102.1          13.1  28156.81584\n",
            "2018     5571822  104.0          11.1  32559.30000\n"
          ],
          "name": "stdout"
        }
      ]
    },
    {
      "cell_type": "markdown",
      "metadata": {
        "id": "75PbHoXleAH6",
        "colab_type": "text"
      },
      "source": [
        "### Plot our immigration/emigration"
      ]
    },
    {
      "cell_type": "code",
      "metadata": {
        "id": "tnd1gOdgd_xL",
        "colab_type": "code",
        "outputId": "5b9a228e-bb1d-4152-9118-4935be399fba",
        "colab": {
          "base_uri": "https://localhost:8080/",
          "height": 280
        }
      },
      "source": [
        "plt.title('Immigration/emigration over time')\n",
        "plt.plot(df.index.values, df[\"Population\"])\n",
        "plt.show()"
      ],
      "execution_count": 0,
      "outputs": [
        {
          "output_type": "display_data",
          "data": {
            "image/png": "[encoded data removed]",
            "text/plain": [
              "<Figure size 432x288 with 1 Axes>"
            ]
          },
          "metadata": {
            "tags": []
          }
        }
      ]
    },
    {
      "cell_type": "code",
      "metadata": {
        "id": "b9mK0zbqkCFy",
        "colab_type": "code",
        "outputId": "8a34cfbf-7250-4023-b599-b286d4aeafb1",
        "colab": {
          "base_uri": "https://localhost:8080/",
          "height": 280
        }
      },
      "source": [
        "plt.title('Unemployment rate over time')\n",
        "plt.plot(df.index.values, df[\"Unemployment\"])\n",
        "plt.show()\n"
      ],
      "execution_count": 0,
      "outputs": [
        {
          "output_type": "display_data",
          "data": {
            "image/png": "[encoded data removed]",
            "text/plain": [
              "<Figure size 432x288 with 1 Axes>"
            ]
          },
          "metadata": {
            "tags": []
          }
        }
      ]
    },
    {
      "cell_type": "code",
      "metadata": {
        "id": "p7OgD82iIvC0",
        "colab_type": "code",
        "outputId": "bc84eb2d-9260-44b2-c711-d88708667a4b",
        "colab": {
          "base_uri": "https://localhost:8080/",
          "height": 280
        }
      },
      "source": [
        "plt.title('Consumer Price Index over time')\n",
        "plt.plot(df.index.values, df[\"CPI\"])\n",
        "plt.show()"
      ],
      "execution_count": 0,
      "outputs": [
        {
          "output_type": "display_data",
          "data": {
            "image/png": "[encoded data removed]",
            "text/plain": [
              "<Figure size 432x288 with 1 Axes>"
            ]
          },
          "metadata": {
            "tags": []
          }
        }
      ]
    },
    {
      "cell_type": "code",
      "metadata": {
        "id": "JlGz8KyEMysc",
        "colab_type": "code",
        "outputId": "a960a969-72ef-4bc5-fcae-0a7965e3585f",
        "colab": {
          "base_uri": "https://localhost:8080/",
          "height": 280
        }
      },
      "source": [
        "plt.title('GDP over time')\n",
        "plt.plot(df.index.values, df[\"GDP\"])\n",
        "plt.show()"
      ],
      "execution_count": 0,
      "outputs": [
        {
          "output_type": "display_data",
          "data": {
            "image/png": "[encoded data removed]",
            "text/plain": [
              "<Figure size 432x288 with 1 Axes>"
            ]
          },
          "metadata": {
            "tags": []
          }
        }
      ]
    },
    {
      "cell_type": "markdown",
      "metadata": {
        "id": "Op2mZuG_s6ex",
        "colab_type": "text"
      },
      "source": [
        "### Multiple Regression with Sklearn"
      ]
    },
    {
      "cell_type": "code",
      "metadata": {
        "id": "GQSfUGidwxuE",
        "colab_type": "code",
        "colab": {}
      },
      "source": [
        "def LinearRegression(offset, count, cols):\n",
        "  Xdf = df[cols]\n",
        "  X = Xdf.values\n",
        "  Y = df[\"Population\"].values\n",
        "  I = df.index.values.reshape(-1,1)\n",
        "\n",
        "  if offset != 0:\n",
        "    Y = shift(Y, offset, cval=0)\n",
        "  if (offset < 0):\n",
        "    Y = Y[:offset]\n",
        "    X = X[:offset,:]\n",
        "    I = I[:offset]\n",
        "  elif (offset > 0):\n",
        "    Y = Y[offset:]\n",
        "    X = X[offset:]\n",
        "    I = I[offset:]\n",
        " \n",
        "  Y = Y.reshape(-1,1)\n",
        "   \n",
        "  #merge X and Y\n",
        "  XY = np.hstack((X,Y)) \n",
        "  IXY = np.hstack((I, XY))\n",
        "  \n",
        "  ## percentage of data to use for validation\n",
        "  percentage_validation = .2 \n",
        "  split = int(len(X)*percentage_validation)\n",
        "  \n",
        "  #store scores in an array\n",
        "  scores = [] \n",
        "  coefs = [[] for i in cols]\n",
        "  \n",
        "  for i in range(count):\n",
        "    #Randomly shuffle the data\n",
        "    np.random.shuffle(IXY) \n",
        "\n",
        "    X = IXY[:,1:len(cols)+1]\n",
        "    Y = IXY[:,len(cols)+1]\n",
        "    I = IXY[:,0]  \n",
        "\n",
        "    # Normalize\n",
        "    X = (X-np.mean(X,0))/np.std(X,0)\n",
        "    Y = (Y-np.mean(Y,0))/np.std(Y,0)\n",
        "\n",
        "    #Split the data\n",
        "    X_tr = X[:-split]\n",
        "    Y_tr = Y[:-split]\n",
        "\n",
        "    I_tr = I[:-split]\n",
        "    I_vl = I[-split:]\n",
        "\n",
        "    X_vl = X[-split:]\n",
        "    Y_vl = Y[-split:]\n",
        "\n",
        "    #Fit the model\n",
        "    lm = linear_model.LinearRegression()\n",
        "    model = lm.fit(X_tr,Y_tr)\n",
        "    score = lm.score(X_vl,Y_vl)\n",
        "#     print(\"{} | {} {} {}\".format(I_tr, I_vl, score, lm.coef_))\n",
        "\n",
        "    scores.append(score)\n",
        "    for i in range(len(cols)):\n",
        "      coefs[i].append(lm.coef_[i])\n",
        "      \n",
        "#     print(coefs)\n",
        "  \n",
        "  return (scores, coefs)\n",
        "    \n"
      ],
      "execution_count": 0,
      "outputs": []
    },
    {
      "cell_type": "code",
      "metadata": {
        "id": "-hQHnFWP6C1Z",
        "colab_type": "code",
        "colab": {}
      },
      "source": [
        "cols = [\"Unemployment\", \"CPI\", \"GDP\"]\n",
        "(scores, coefs) = LinearRegression(0, 200, cols) #Run the linear regression 200 times\n"
      ],
      "execution_count": 0,
      "outputs": []
    },
    {
      "cell_type": "code",
      "metadata": {
        "id": "TUOj0BxnKru9",
        "colab_type": "code",
        "outputId": "b637ca0f-45f6-4b23-fe22-b73409bd058e",
        "colab": {
          "base_uri": "https://localhost:8080/",
          "height": 311
        }
      },
      "source": [
        "plt.title(\"Multi Regression Scores\")\n",
        "plt.title(\"Median score: {}\".format(np.median(scores)))\n",
        "plt.ylabel(\"Scores\")\n",
        "plt.xlabel(cols)\n",
        "plt.boxplot(scores)\n",
        "plt.ylim(bottom=-2, top=1.5)\n",
        "plt.show"
      ],
      "execution_count": 0,
      "outputs": [
        {
          "output_type": "execute_result",
          "data": {
            "text/plain": [
              "<function matplotlib.pyplot.show>"
            ]
          },
          "metadata": {
            "tags": []
          },
          "execution_count": 78
        },
        {
          "output_type": "display_data",
          "data": {
            "image/png": "[encoded data removed]",
            "text/plain": [
              "<Figure size 432x288 with 1 Axes>"
            ]
          },
          "metadata": {
            "tags": []
          }
        }
      ]
    },
    {
      "cell_type": "code",
      "metadata": {
        "id": "xmn10mvS4mEm",
        "colab_type": "code",
        "outputId": "f25c40b0-c92d-44bc-d92e-c6041b4b6a29",
        "colab": {
          "base_uri": "https://localhost:8080/",
          "height": 306
        }
      },
      "source": [
        "plt.title(\"Coefficient Values\")\n",
        "plt.ylabel(\"Coefs\")\n",
        "plt.boxplot(coefs)\n",
        "plt.xticks([1,2,3],cols,fontsize=20)\n",
        "# plt.ylim(bottom=-2, top=1.5)\n",
        "plt.show"
      ],
      "execution_count": 0,
      "outputs": [
        {
          "output_type": "execute_result",
          "data": {
            "text/plain": [
              "<function matplotlib.pyplot.show>"
            ]
          },
          "metadata": {
            "tags": []
          },
          "execution_count": 79
        },
        {
          "output_type": "display_data",
          "data": {
            "image/png": "[encoded data removed]",
            "text/plain": [
              "<Figure size 432x288 with 1 Axes>"
            ]
          },
          "metadata": {
            "tags": []
          }
        }
      ]
    },
    {
      "cell_type": "markdown",
      "metadata": {
        "id": "181-mEnsT7rt",
        "colab_type": "text"
      },
      "source": [
        "### Cross-correlation\n",
        "Try to find relationships by shifting a time offset between X and Y "
      ]
    },
    {
      "cell_type": "code",
      "metadata": {
        "id": "wCXeX6FDFWIS",
        "colab_type": "code",
        "outputId": "d732e6a7-f89a-4fce-ee51-9ca0d0fef6b5",
        "colab": {
          "base_uri": "https://localhost:8080/",
          "height": 297
        }
      },
      "source": [
        "offsets = list(range(-5, 5))\n",
        "regressions = []\n",
        "\n",
        "for i in range(-5, 5):\n",
        "  (scores, _) = LinearRegression(i, 200, cols)\n",
        "  regressions.append(np.median(scores))\n",
        "    \n",
        "plt.title('Cross-correlation over 10 years')\n",
        "plt.plot(offsets, regressions, label=\"Unemployment\")\n",
        "plt.legend()\n"
      ],
      "execution_count": 0,
      "outputs": [
        {
          "output_type": "execute_result",
          "data": {
            "text/plain": [
              "<matplotlib.legend.Legend at 0x7fcd119637f0>"
            ]
          },
          "metadata": {
            "tags": []
          },
          "execution_count": 83
        },
        {
          "output_type": "display_data",
          "data": {
            "image/png": "[encoded data removed]",
            "text/plain": [
              "<Figure size 432x288 with 1 Axes>"
            ]
          },
          "metadata": {
            "tags": []
          }
        }
      ]
    }
  ]
}